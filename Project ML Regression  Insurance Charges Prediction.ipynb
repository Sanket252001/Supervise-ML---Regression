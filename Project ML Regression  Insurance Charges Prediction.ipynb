{
 "cells": [
  {
   "cell_type": "markdown",
   "metadata": {
    "id": "u7vlTSABPBA_"
   },
   "source": [
    "# **<font color=green> Final Project ML Regression | Insurance Charges Prediction</font>**"
   ]
  },
  {
   "cell_type": "markdown",
   "metadata": {
    "id": "3y6HsjATPBBE"
   },
   "source": [
    "<img src=\"https://img.freepik.com/free-vector/cartoon-flat-style-doctor-character-offers-health-insurance-illustration_189557-1141.jpg?w=826\" alt=\"Image\" height=\"300\" width=\"600\">"
   ]
  },
  {
   "cell_type": "markdown",
   "metadata": {
    "id": "Rb2PVTjKPBBF"
   },
   "source": [
    "**We'll cover the following topics on an insuracne dataset**\n",
    "\n",
    "- <font color = purple>  Dataset Description + EDA </font>\n",
    "- <font color = purple>  Determining Normality</font>\n",
    "- <font color = purple>  Feature Engineering </font>\n",
    "- <font color = purple>  Hypothesis Testing </font>\n",
    "- <font color = purple>  Dataset Conclusion </font>\n"
   ]
  },
  {
   "cell_type": "markdown",
   "metadata": {
    "id": "7fwsJxuLPBBF"
   },
   "source": [
    "### <font color=#0b5bdb>**Dataset**</font>\n"
   ]
  },
  {
   "cell_type": "code",
   "execution_count": 1,
   "metadata": {
    "id": "5r74_A8YPBBG"
   },
   "outputs": [],
   "source": [
    "import numpy as np \n",
    "import pandas as pd \n",
    "import os\n",
    "import matplotlib.pyplot as plt\n",
    "import seaborn as sns\n",
    "import warnings\n",
    "warnings.filterwarnings('ignore')"
   ]
  },
  {
   "cell_type": "code",
   "execution_count": 13,
   "metadata": {
    "colab": {
     "base_uri": "https://localhost:8080/",
     "height": 380
    },
    "id": "MacXDOwOPBBH",
    "outputId": "38fbf97a-f59f-4014-80cf-69e2064aa11f"
   },
   "outputs": [],
   "source": [
    "# Data Retrieving \n",
    "data = pd.read_csv('https://gist.githubusercontent.com/meperezcuello/82a9f1c1c473d6585e750ad2e3c05a41/raw/d42d226d0dd64e7f5395a0eec1b9190a10edbc03/Medical_Cost.csv')\n",
    "# *you can find 'insurance premium prediction dataset' into the zip file.*"
   ]
  },
  {
   "cell_type": "markdown",
   "metadata": {
    "id": "c05FIxoOPBBH"
   },
   "source": [
    "**1- Dataset Statistics**"
   ]
  },
  {
   "cell_type": "code",
   "execution_count": 5,
   "metadata": {
    "id": "ZKQvwIXxPBBI",
    "outputId": "dfe4a46b-07e3-40d8-c370-e8c4530f4dd6"
   },
   "outputs": [
    {
     "data": {
      "text/html": [
       "<div>\n",
       "<style scoped>\n",
       "    .dataframe tbody tr th:only-of-type {\n",
       "        vertical-align: middle;\n",
       "    }\n",
       "\n",
       "    .dataframe tbody tr th {\n",
       "        vertical-align: top;\n",
       "    }\n",
       "\n",
       "    .dataframe thead th {\n",
       "        text-align: right;\n",
       "    }\n",
       "</style>\n",
       "<table border=\"1\" class=\"dataframe\">\n",
       "  <thead>\n",
       "    <tr style=\"text-align: right;\">\n",
       "      <th></th>\n",
       "      <th>age</th>\n",
       "      <th>sex</th>\n",
       "      <th>bmi</th>\n",
       "      <th>children</th>\n",
       "      <th>smoker</th>\n",
       "      <th>region</th>\n",
       "      <th>charges</th>\n",
       "    </tr>\n",
       "  </thead>\n",
       "  <tbody>\n",
       "    <tr>\n",
       "      <th>0</th>\n",
       "      <td>19</td>\n",
       "      <td>female</td>\n",
       "      <td>27.900</td>\n",
       "      <td>0</td>\n",
       "      <td>yes</td>\n",
       "      <td>southwest</td>\n",
       "      <td>16884.92400</td>\n",
       "    </tr>\n",
       "    <tr>\n",
       "      <th>1</th>\n",
       "      <td>18</td>\n",
       "      <td>male</td>\n",
       "      <td>33.770</td>\n",
       "      <td>1</td>\n",
       "      <td>no</td>\n",
       "      <td>southeast</td>\n",
       "      <td>1725.55230</td>\n",
       "    </tr>\n",
       "    <tr>\n",
       "      <th>2</th>\n",
       "      <td>28</td>\n",
       "      <td>male</td>\n",
       "      <td>33.000</td>\n",
       "      <td>3</td>\n",
       "      <td>no</td>\n",
       "      <td>southeast</td>\n",
       "      <td>4449.46200</td>\n",
       "    </tr>\n",
       "    <tr>\n",
       "      <th>3</th>\n",
       "      <td>33</td>\n",
       "      <td>male</td>\n",
       "      <td>22.705</td>\n",
       "      <td>0</td>\n",
       "      <td>no</td>\n",
       "      <td>northwest</td>\n",
       "      <td>21984.47061</td>\n",
       "    </tr>\n",
       "    <tr>\n",
       "      <th>4</th>\n",
       "      <td>32</td>\n",
       "      <td>male</td>\n",
       "      <td>28.880</td>\n",
       "      <td>0</td>\n",
       "      <td>no</td>\n",
       "      <td>northwest</td>\n",
       "      <td>3866.85520</td>\n",
       "    </tr>\n",
       "    <tr>\n",
       "      <th>5</th>\n",
       "      <td>31</td>\n",
       "      <td>female</td>\n",
       "      <td>25.740</td>\n",
       "      <td>0</td>\n",
       "      <td>no</td>\n",
       "      <td>southeast</td>\n",
       "      <td>3756.62160</td>\n",
       "    </tr>\n",
       "    <tr>\n",
       "      <th>6</th>\n",
       "      <td>46</td>\n",
       "      <td>female</td>\n",
       "      <td>33.440</td>\n",
       "      <td>1</td>\n",
       "      <td>no</td>\n",
       "      <td>southeast</td>\n",
       "      <td>8240.58960</td>\n",
       "    </tr>\n",
       "    <tr>\n",
       "      <th>7</th>\n",
       "      <td>37</td>\n",
       "      <td>female</td>\n",
       "      <td>27.740</td>\n",
       "      <td>3</td>\n",
       "      <td>no</td>\n",
       "      <td>northwest</td>\n",
       "      <td>7281.50560</td>\n",
       "    </tr>\n",
       "    <tr>\n",
       "      <th>8</th>\n",
       "      <td>37</td>\n",
       "      <td>male</td>\n",
       "      <td>29.830</td>\n",
       "      <td>2</td>\n",
       "      <td>no</td>\n",
       "      <td>northeast</td>\n",
       "      <td>6406.41070</td>\n",
       "    </tr>\n",
       "    <tr>\n",
       "      <th>9</th>\n",
       "      <td>60</td>\n",
       "      <td>female</td>\n",
       "      <td>25.840</td>\n",
       "      <td>0</td>\n",
       "      <td>no</td>\n",
       "      <td>northwest</td>\n",
       "      <td>28923.13692</td>\n",
       "    </tr>\n",
       "  </tbody>\n",
       "</table>\n",
       "</div>"
      ],
      "text/plain": [
       "   age     sex     bmi  children smoker     region      charges\n",
       "0   19  female  27.900         0    yes  southwest  16884.92400\n",
       "1   18    male  33.770         1     no  southeast   1725.55230\n",
       "2   28    male  33.000         3     no  southeast   4449.46200\n",
       "3   33    male  22.705         0     no  northwest  21984.47061\n",
       "4   32    male  28.880         0     no  northwest   3866.85520\n",
       "5   31  female  25.740         0     no  southeast   3756.62160\n",
       "6   46  female  33.440         1     no  southeast   8240.58960\n",
       "7   37  female  27.740         3     no  northwest   7281.50560\n",
       "8   37    male  29.830         2     no  northeast   6406.41070\n",
       "9   60  female  25.840         0     no  northwest  28923.13692"
      ]
     },
     "execution_count": 5,
     "metadata": {},
     "output_type": "execute_result"
    }
   ],
   "source": [
    "data.head(10)"
   ]
  },
  {
   "cell_type": "markdown",
   "metadata": {
    "id": "a5fdJFbJPBBJ"
   },
   "source": [
    "Today we will explore a data set dedicated to the cost of treatment of different patients. The cost of treatment depends on many factors: diagnosis, type of clinic, city of residence, age and so on. We have no data on the diagnosis of patients. But we have other information that can help us to make a conclusion about the health of patients and practice regression analysis. In any case, I wish you to be healthy! Let's look at our features.\n",
    "\n",
    "***Features***\n",
    "- <font>  **age:** age of customer | patient</font>\n",
    "- <font>  **sex:** male-female </font>\n",
    "- <font>  **bmi:** body mass index</font>\n",
    "- <font>  **children:** number of children</font>\n",
    "- <font>  **smoker:** the person smokes or not  </font>\n",
    "- <font>  **region:** residential area  </font>\n",
    "- <font>  **charges:** insurance charges </font>"
   ]
  },
  {
   "cell_type": "code",
   "execution_count": 6,
   "metadata": {
    "id": "4mxGc19GPBBJ",
    "outputId": "fca68f85-ea3e-4e75-8bc3-2ff6a1d8f078"
   },
   "outputs": [
    {
     "name": "stdout",
     "output_type": "stream",
     "text": [
      "Dataset Dimensions: (1338, 7)\n",
      "---------------------------------\n",
      "age           int64\n",
      "sex          object\n",
      "bmi         float64\n",
      "children      int64\n",
      "smoker       object\n",
      "region       object\n",
      "charges     float64\n",
      "dtype: object\n"
     ]
    }
   ],
   "source": [
    "# (num of rows) x (num of columns)\n",
    "print('Dataset Dimensions:',data.shape)\n",
    "print(\"---------------------------------\")\n",
    "\n",
    "# types of each column\n",
    "print(data.dtypes)"
   ]
  },
  {
   "cell_type": "code",
   "execution_count": 7,
   "metadata": {
    "id": "aEv7CimZPBBK",
    "outputId": "040ebd87-59f4-4e11-8871-8a25cc96b016"
   },
   "outputs": [
    {
     "data": {
      "text/html": [
       "<div>\n",
       "<style scoped>\n",
       "    .dataframe tbody tr th:only-of-type {\n",
       "        vertical-align: middle;\n",
       "    }\n",
       "\n",
       "    .dataframe tbody tr th {\n",
       "        vertical-align: top;\n",
       "    }\n",
       "\n",
       "    .dataframe thead th {\n",
       "        text-align: right;\n",
       "    }\n",
       "</style>\n",
       "<table border=\"1\" class=\"dataframe\">\n",
       "  <thead>\n",
       "    <tr style=\"text-align: right;\">\n",
       "      <th></th>\n",
       "      <th>age</th>\n",
       "      <th>bmi</th>\n",
       "      <th>children</th>\n",
       "      <th>charges</th>\n",
       "    </tr>\n",
       "  </thead>\n",
       "  <tbody>\n",
       "    <tr>\n",
       "      <th>count</th>\n",
       "      <td>1338.000000</td>\n",
       "      <td>1338.000000</td>\n",
       "      <td>1338.000000</td>\n",
       "      <td>1338.000000</td>\n",
       "    </tr>\n",
       "    <tr>\n",
       "      <th>mean</th>\n",
       "      <td>39.207025</td>\n",
       "      <td>30.663397</td>\n",
       "      <td>1.094918</td>\n",
       "      <td>13270.422265</td>\n",
       "    </tr>\n",
       "    <tr>\n",
       "      <th>std</th>\n",
       "      <td>14.049960</td>\n",
       "      <td>6.098187</td>\n",
       "      <td>1.205493</td>\n",
       "      <td>12110.011237</td>\n",
       "    </tr>\n",
       "    <tr>\n",
       "      <th>min</th>\n",
       "      <td>18.000000</td>\n",
       "      <td>15.960000</td>\n",
       "      <td>0.000000</td>\n",
       "      <td>1121.873900</td>\n",
       "    </tr>\n",
       "    <tr>\n",
       "      <th>25%</th>\n",
       "      <td>27.000000</td>\n",
       "      <td>26.296250</td>\n",
       "      <td>0.000000</td>\n",
       "      <td>4740.287150</td>\n",
       "    </tr>\n",
       "    <tr>\n",
       "      <th>50%</th>\n",
       "      <td>39.000000</td>\n",
       "      <td>30.400000</td>\n",
       "      <td>1.000000</td>\n",
       "      <td>9382.033000</td>\n",
       "    </tr>\n",
       "    <tr>\n",
       "      <th>75%</th>\n",
       "      <td>51.000000</td>\n",
       "      <td>34.693750</td>\n",
       "      <td>2.000000</td>\n",
       "      <td>16639.912515</td>\n",
       "    </tr>\n",
       "    <tr>\n",
       "      <th>max</th>\n",
       "      <td>64.000000</td>\n",
       "      <td>53.130000</td>\n",
       "      <td>5.000000</td>\n",
       "      <td>63770.428010</td>\n",
       "    </tr>\n",
       "  </tbody>\n",
       "</table>\n",
       "</div>"
      ],
      "text/plain": [
       "               age          bmi     children       charges\n",
       "count  1338.000000  1338.000000  1338.000000   1338.000000\n",
       "mean     39.207025    30.663397     1.094918  13270.422265\n",
       "std      14.049960     6.098187     1.205493  12110.011237\n",
       "min      18.000000    15.960000     0.000000   1121.873900\n",
       "25%      27.000000    26.296250     0.000000   4740.287150\n",
       "50%      39.000000    30.400000     1.000000   9382.033000\n",
       "75%      51.000000    34.693750     2.000000  16639.912515\n",
       "max      64.000000    53.130000     5.000000  63770.428010"
      ]
     },
     "execution_count": 7,
     "metadata": {},
     "output_type": "execute_result"
    }
   ],
   "source": [
    "data.describe()"
   ]
  },
  {
   "cell_type": "code",
   "execution_count": 14,
   "metadata": {
    "id": "DPkSSH2XPBBK",
    "outputId": "b25aac26-9864-43ff-b2e6-0c909e80f9c1"
   },
   "outputs": [
    {
     "data": {
      "text/plain": [
       "age         0\n",
       "sex         0\n",
       "bmi         0\n",
       "children    0\n",
       "smoker      0\n",
       "region      0\n",
       "charges     0\n",
       "dtype: int64"
      ]
     },
     "execution_count": 14,
     "metadata": {},
     "output_type": "execute_result"
    }
   ],
   "source": [
    "data.isnull().sum()"
   ]
  },
  {
   "cell_type": "markdown",
   "metadata": {
    "id": "mpoRoRb5PBBL"
   },
   "source": [
    "\n",
    "<font> Great, there is no missing values within our features !</font>\n"
   ]
  },
  {
   "cell_type": "markdown",
   "metadata": {
    "id": "G7Km9dUVPBBL"
   },
   "source": [
    "**2- Converting categorical features into numerical features**"
   ]
  },
  {
   "cell_type": "code",
   "execution_count": 15,
   "metadata": {
    "id": "PZ8GmUzAPBBL",
    "outputId": "bca754b2-e0d3-4ed0-b6f0-6dbacfd9c233"
   },
   "outputs": [
    {
     "data": {
      "text/plain": [
       "Index(['sex', 'smoker', 'region'], dtype='object')"
      ]
     },
     "execution_count": 15,
     "metadata": {},
     "output_type": "execute_result"
    }
   ],
   "source": [
    "# Select the object (string) columns\n",
    "mask = data.dtypes == np.object\n",
    "categorical_cols = data.columns[mask]\n",
    "categorical_cols"
   ]
  },
  {
   "cell_type": "code",
   "execution_count": 17,
   "metadata": {
    "id": "tzjyINhdPBBL"
   },
   "outputs": [],
   "source": [
    "from sklearn.preprocessing import LabelEncoder\n",
    "\n",
    "le = LabelEncoder()\n",
    "for category in categorical_cols:\n",
    "    le.fit(data[category].drop_duplicates())\n",
    "    data[category] = le.transform(data[category])"
   ]
  },
  {
   "cell_type": "code",
   "execution_count": 18,
   "metadata": {
    "id": "KpapUZr1PBBM",
    "outputId": "0b3b6036-5cf6-48a1-afc1-200fba1f4c32"
   },
   "outputs": [
    {
     "data": {
      "text/html": [
       "<div>\n",
       "<style scoped>\n",
       "    .dataframe tbody tr th:only-of-type {\n",
       "        vertical-align: middle;\n",
       "    }\n",
       "\n",
       "    .dataframe tbody tr th {\n",
       "        vertical-align: top;\n",
       "    }\n",
       "\n",
       "    .dataframe thead th {\n",
       "        text-align: right;\n",
       "    }\n",
       "</style>\n",
       "<table border=\"1\" class=\"dataframe\">\n",
       "  <thead>\n",
       "    <tr style=\"text-align: right;\">\n",
       "      <th></th>\n",
       "      <th>age</th>\n",
       "      <th>sex</th>\n",
       "      <th>bmi</th>\n",
       "      <th>children</th>\n",
       "      <th>smoker</th>\n",
       "      <th>region</th>\n",
       "      <th>charges</th>\n",
       "    </tr>\n",
       "  </thead>\n",
       "  <tbody>\n",
       "    <tr>\n",
       "      <th>0</th>\n",
       "      <td>19</td>\n",
       "      <td>0</td>\n",
       "      <td>27.900</td>\n",
       "      <td>0</td>\n",
       "      <td>1</td>\n",
       "      <td>3</td>\n",
       "      <td>16884.92400</td>\n",
       "    </tr>\n",
       "    <tr>\n",
       "      <th>1</th>\n",
       "      <td>18</td>\n",
       "      <td>1</td>\n",
       "      <td>33.770</td>\n",
       "      <td>1</td>\n",
       "      <td>0</td>\n",
       "      <td>2</td>\n",
       "      <td>1725.55230</td>\n",
       "    </tr>\n",
       "    <tr>\n",
       "      <th>2</th>\n",
       "      <td>28</td>\n",
       "      <td>1</td>\n",
       "      <td>33.000</td>\n",
       "      <td>3</td>\n",
       "      <td>0</td>\n",
       "      <td>2</td>\n",
       "      <td>4449.46200</td>\n",
       "    </tr>\n",
       "    <tr>\n",
       "      <th>3</th>\n",
       "      <td>33</td>\n",
       "      <td>1</td>\n",
       "      <td>22.705</td>\n",
       "      <td>0</td>\n",
       "      <td>0</td>\n",
       "      <td>1</td>\n",
       "      <td>21984.47061</td>\n",
       "    </tr>\n",
       "    <tr>\n",
       "      <th>4</th>\n",
       "      <td>32</td>\n",
       "      <td>1</td>\n",
       "      <td>28.880</td>\n",
       "      <td>0</td>\n",
       "      <td>0</td>\n",
       "      <td>1</td>\n",
       "      <td>3866.85520</td>\n",
       "    </tr>\n",
       "    <tr>\n",
       "      <th>5</th>\n",
       "      <td>31</td>\n",
       "      <td>0</td>\n",
       "      <td>25.740</td>\n",
       "      <td>0</td>\n",
       "      <td>0</td>\n",
       "      <td>2</td>\n",
       "      <td>3756.62160</td>\n",
       "    </tr>\n",
       "    <tr>\n",
       "      <th>6</th>\n",
       "      <td>46</td>\n",
       "      <td>0</td>\n",
       "      <td>33.440</td>\n",
       "      <td>1</td>\n",
       "      <td>0</td>\n",
       "      <td>2</td>\n",
       "      <td>8240.58960</td>\n",
       "    </tr>\n",
       "    <tr>\n",
       "      <th>7</th>\n",
       "      <td>37</td>\n",
       "      <td>0</td>\n",
       "      <td>27.740</td>\n",
       "      <td>3</td>\n",
       "      <td>0</td>\n",
       "      <td>1</td>\n",
       "      <td>7281.50560</td>\n",
       "    </tr>\n",
       "    <tr>\n",
       "      <th>8</th>\n",
       "      <td>37</td>\n",
       "      <td>1</td>\n",
       "      <td>29.830</td>\n",
       "      <td>2</td>\n",
       "      <td>0</td>\n",
       "      <td>0</td>\n",
       "      <td>6406.41070</td>\n",
       "    </tr>\n",
       "    <tr>\n",
       "      <th>9</th>\n",
       "      <td>60</td>\n",
       "      <td>0</td>\n",
       "      <td>25.840</td>\n",
       "      <td>0</td>\n",
       "      <td>0</td>\n",
       "      <td>1</td>\n",
       "      <td>28923.13692</td>\n",
       "    </tr>\n",
       "  </tbody>\n",
       "</table>\n",
       "</div>"
      ],
      "text/plain": [
       "   age  sex     bmi  children  smoker  region      charges\n",
       "0   19    0  27.900         0       1       3  16884.92400\n",
       "1   18    1  33.770         1       0       2   1725.55230\n",
       "2   28    1  33.000         3       0       2   4449.46200\n",
       "3   33    1  22.705         0       0       1  21984.47061\n",
       "4   32    1  28.880         0       0       1   3866.85520\n",
       "5   31    0  25.740         0       0       2   3756.62160\n",
       "6   46    0  33.440         1       0       2   8240.58960\n",
       "7   37    0  27.740         3       0       1   7281.50560\n",
       "8   37    1  29.830         2       0       0   6406.41070\n",
       "9   60    0  25.840         0       0       1  28923.13692"
      ]
     },
     "execution_count": 18,
     "metadata": {},
     "output_type": "execute_result"
    }
   ],
   "source": [
    "data.head(10)"
   ]
  },
  {
   "cell_type": "markdown",
   "metadata": {
    "id": "eC3eAVBoPBBM",
    "tags": []
   },
   "source": [
    "**3- Correlation Study**"
   ]
  },
  {
   "cell_type": "code",
   "execution_count": 33,
   "metadata": {
    "id": "Q6ieNwgbPBBM",
    "outputId": "f73f0f4b-03be-4947-96c4-082cbb83176e",
    "scrolled": false
   },
   "outputs": [
    {
     "data": {
      "image/png": "[encoded data removed]",
      "text/plain": [
       "<Figure size 600x400 with 2 Axes>"
      ]
     },
     "metadata": {
      "needs_background": "light"
     },
     "output_type": "display_data"
    }
   ],
   "source": [
    "# Studying the correlation between features using Heat Map!\n",
    "plt.figure(dpi=100)\n",
    "sns.heatmap(data.corr(),annot=True, cmap=\"Blues\")\n",
    "plt.show()"
   ]
  },
  {
   "cell_type": "code",
   "execution_count": 35,
   "metadata": {
    "id": "3g3W5mDNPBBN",
    "outputId": "9544f465-7dfd-4f80-86db-2f9703a628fb"
   },
   "outputs": [
    {
     "data": {
      "text/plain": [
       "charges     1.000000\n",
       "smoker      0.787251\n",
       "age         0.299008\n",
       "bmi         0.198341\n",
       "children    0.067998\n",
       "sex         0.057292\n",
       "region     -0.006208\n",
       "Name: charges, dtype: float64"
      ]
     },
     "execution_count": 35,
     "metadata": {},
     "output_type": "execute_result"
    }
   ],
   "source": [
    "# sorting features according to the strength of correlation with 'charges' feature\n",
    "data.corr()['charges'].sort_values(ascending = False)"
   ]
  },
  {
   "cell_type": "markdown",
   "metadata": {
    "id": "-g9MEyC9PBBN"
   },
   "source": [
    "As shown above we the strongest correlation was between **smoker** and **charges** features"
   ]
  },
  {
   "cell_type": "markdown",
   "metadata": {
    "id": "S1m_q-IBPBBN"
   },
   "source": [
    "### <font color=#0b5bdb>**Determining Normality**</font>"
   ]
  },
  {
   "cell_type": "markdown",
   "metadata": {
    "id": "aIRTAdVIPBBN"
   },
   "source": [
    "Making our target variable normally distributed often will lead to better results\n",
    "If our target is not normally distributed, we can apply a transformation to it and then fit our regression to predict the transformed values.\n",
    "How can we tell if our target is normally distributed? There are two ways:"
   ]
  },
  {
   "cell_type": "code",
   "execution_count": 40,
   "metadata": {
    "id": "Cg069xpWPBBO",
    "outputId": "b3fdd0ef-57ff-4e1e-fc99-221959a037cf"
   },
   "outputs": [
    {
     "data": {
      "image/png": "[encoded data removed]",
      "text/plain": [
       "<Figure size 432x288 with 1 Axes>"
      ]
     },
     "metadata": {
      "needs_background": "light"
     },
     "output_type": "display_data"
    }
   ],
   "source": [
    "data['charges'].hist();\n",
    "# data.charges.hist();"
   ]
  },
  {
   "cell_type": "code",
   "execution_count": 41,
   "metadata": {
    "id": "SkPjW0TmPBBO",
    "outputId": "df13ba65-4d3e-4502-db33-103642cd3fcb"
   },
   "outputs": [
    {
     "data": {
      "text/plain": [
       "NormaltestResult(statistic=336.8851220567733, pvalue=7.019807901276197e-74)"
      ]
     },
     "execution_count": 41,
     "metadata": {},
     "output_type": "execute_result"
    }
   ],
   "source": [
    "# applying D'Agostino K^2 test to check the normality! \n",
    "from scipy.stats.mstats import normaltest # D'Agostino K^2 Test\n",
    "normaltest(data.charges.values)"
   ]
  },
  {
   "cell_type": "markdown",
   "metadata": {
    "id": "l3JPXYKXPBBO"
   },
   "source": [
    "we can see that **p-value** is far away of **0.05** which indicates absense of normality."
   ]
  },
  {
   "cell_type": "markdown",
   "metadata": {
    "id": "rce4EmgfPBBO"
   },
   "source": [
    "Linear Regression assumes a normally distributed residuals which can be aided by transforming y variable (Our target)\n",
    "\n",
    "Transformations techniques to get or approach normal distribution: \n",
    "\n",
    "* Square root\n",
    "* Log\n",
    "* Box cox"
   ]
  },
  {
   "cell_type": "markdown",
   "metadata": {
    "id": "UTsqifSHPBBP"
   },
   "source": [
    "**1- Square root**"
   ]
  },
  {
   "cell_type": "code",
   "execution_count": 42,
   "metadata": {
    "id": "Cii54hVIPBBP",
    "outputId": "8a90a8a5-9bd6-40cf-d71a-7386732768c1"
   },
   "outputs": [
    {
     "data": {
      "text/plain": [
       "NormaltestResult(statistic=112.4605295472106, pvalue=3.7975744156203163e-25)"
      ]
     },
     "execution_count": 42,
     "metadata": {},
     "output_type": "execute_result"
    },
    {
     "data": {
      "image/png": "[encoded data removed]",
      "text/plain": [
       "<Figure size 432x288 with 1 Axes>"
      ]
     },
     "metadata": {
      "needs_background": "light"
     },
     "output_type": "display_data"
    }
   ],
   "source": [
    "# applying log transform on chareges feature: \n",
    "sqrt_charges = np.sqrt(data.charges)\n",
    "plt.hist(sqrt_charges)\n",
    "\n",
    "# applying D'Agostino K^2 test to check the normality \n",
    "sqrt_test_res = normaltest(sqrt_charges.values)\n",
    "sqrt_test_res"
   ]
  },
  {
   "cell_type": "markdown",
   "metadata": {
    "id": "Pd3lN9P2PBBP"
   },
   "source": [
    "**p-value** is getting closer to **0.05** with this transformation but still we need better results"
   ]
  },
  {
   "cell_type": "markdown",
   "metadata": {
    "id": "W0wPTau8PBBP"
   },
   "source": [
    "**2- Log Transformation**"
   ]
  },
  {
   "cell_type": "code",
   "execution_count": 43,
   "metadata": {
    "id": "3GWjokb2PBBP",
    "outputId": "92ff56dc-9435-415a-ee25-ced7c75896fe"
   },
   "outputs": [
    {
     "data": {
      "text/plain": [
       "NormaltestResult(statistic=52.71670509113935, pvalue=3.5703676381337117e-12)"
      ]
     },
     "execution_count": 43,
     "metadata": {},
     "output_type": "execute_result"
    },
    {
     "data": {
      "image/png": "[encoded data removed]",
      "text/plain": [
       "<Figure size 432x288 with 1 Axes>"
      ]
     },
     "metadata": {
      "needs_background": "light"
     },
     "output_type": "display_data"
    }
   ],
   "source": [
    "# applying log transform on chareges feature: \n",
    "log_charges = np.log(data.charges)\n",
    "plt.hist(log_charges)\n",
    "\n",
    "# applying D'Agostino K^2 test to check the normality! \n",
    "log_test_res = normaltest(log_charges.values)\n",
    "log_test_res"
   ]
  },
  {
   "cell_type": "markdown",
   "metadata": {
    "id": "YVe8y5I6PBBQ"
   },
   "source": [
    "**p-value** is getting closer to **0.05** with log transformation but again we need better results"
   ]
  },
  {
   "cell_type": "markdown",
   "metadata": {
    "id": "6f9U3tsEPBBQ"
   },
   "source": [
    "**3-Box cox Transformation**"
   ]
  },
  {
   "cell_type": "markdown",
   "metadata": {
    "id": "0EZRZBB9PBBQ"
   },
   "source": [
    "The box cox transformation is a parametrized transformation that tries to get distributions \"as close to a normal distribution\" as possible.\n",
    "\n",
    "It is defined as:\n",
    "\n",
    "$$ \\text{boxcox}(y_i) = \\frac{y_i^{\\lambda} - 1}{\\lambda} $$\n",
    "\n",
    "You can think of as a generalization of the square root function: the square root function uses the exponent of 0.5, but box cox lets its exponent vary so it can find the best one."
   ]
  },
  {
   "cell_type": "code",
   "execution_count": 44,
   "metadata": {
    "id": "Hf0FDqWnPBBQ"
   },
   "outputs": [],
   "source": [
    "from scipy.stats import boxcox"
   ]
  },
  {
   "cell_type": "code",
   "execution_count": 48,
   "metadata": {
    "id": "MdzdpnApPBBQ"
   },
   "outputs": [
    {
     "data": {
      "text/plain": [
       "(array([12.12897974,  8.80859638, 10.14752106, ...,  8.72968299,\n",
       "         9.01913128, 12.9736611 ]),\n",
       " 0.043649053770664956)"
      ]
     },
     "execution_count": 48,
     "metadata": {},
     "output_type": "execute_result"
    }
   ],
   "source": [
    "# applying box cox transform on 'charges' feature: \n",
    "bc_result = boxcox(data.charges)\n",
    "bc_result"
   ]
  },
  {
   "cell_type": "code",
   "execution_count": 49,
   "metadata": {},
   "outputs": [],
   "source": [
    "boxcox_medv = bc_result[0]\n",
    "lam = bc_result[1]"
   ]
  },
  {
   "cell_type": "code",
   "execution_count": 50,
   "metadata": {
    "id": "CVjPkrUCPBBR",
    "outputId": "2a16133e-27bf-44f2-cd95-13071760d3cf",
    "scrolled": true
   },
   "outputs": [
    {
     "data": {
      "text/plain": [
       "NormaltestResult(statistic=54.4181017156977, pvalue=1.5249631686757666e-12)"
      ]
     },
     "execution_count": 50,
     "metadata": {},
     "output_type": "execute_result"
    },
    {
     "data": {
      "image/png": "[encoded data removed]",
      "text/plain": [
       "<Figure size 432x288 with 1 Axes>"
      ]
     },
     "metadata": {
      "needs_background": "light"
     },
     "output_type": "display_data"
    }
   ],
   "source": [
    "plt.hist(boxcox_medv)\n",
    "boxcox_test_res = normaltest(boxcox_medv)\n",
    "boxcox_test_res"
   ]
  },
  {
   "cell_type": "markdown",
   "metadata": {
    "id": "gC9pzUW7PBBR"
   },
   "source": [
    "as shown above **p-value** is getting closer to **0.05** with this transformation but not much. "
   ]
  },
  {
   "cell_type": "code",
   "execution_count": 54,
   "metadata": {
    "id": "3NwH7f6kPBBR",
    "outputId": "7c4929f6-ad97-49f1-972d-d071fadbac6b"
   },
   "outputs": [
    {
     "data": {
      "text/html": [
       "<div>\n",
       "<style scoped>\n",
       "    .dataframe tbody tr th:only-of-type {\n",
       "        vertical-align: middle;\n",
       "    }\n",
       "\n",
       "    .dataframe tbody tr th {\n",
       "        vertical-align: top;\n",
       "    }\n",
       "\n",
       "    .dataframe thead th {\n",
       "        text-align: right;\n",
       "    }\n",
       "</style>\n",
       "<table border=\"1\" class=\"dataframe\">\n",
       "  <thead>\n",
       "    <tr style=\"text-align: right;\">\n",
       "      <th></th>\n",
       "      <th>Transormation</th>\n",
       "      <th>P-value</th>\n",
       "    </tr>\n",
       "  </thead>\n",
       "  <tbody>\n",
       "    <tr>\n",
       "      <th>0</th>\n",
       "      <td>Square-Root</td>\n",
       "      <td>3.797574e-25</td>\n",
       "    </tr>\n",
       "    <tr>\n",
       "      <th>1</th>\n",
       "      <td>Log</td>\n",
       "      <td>3.570368e-12</td>\n",
       "    </tr>\n",
       "    <tr>\n",
       "      <th>2</th>\n",
       "      <td>Box Cox</td>\n",
       "      <td>1.524963e-12</td>\n",
       "    </tr>\n",
       "  </tbody>\n",
       "</table>\n",
       "</div>"
      ],
      "text/plain": [
       "  Transormation       P-value\n",
       "0   Square-Root  3.797574e-25\n",
       "1           Log  3.570368e-12\n",
       "2       Box Cox  1.524963e-12"
      ]
     },
     "execution_count": 54,
     "metadata": {},
     "output_type": "execute_result"
    }
   ],
   "source": [
    "d = {'Transormation': ['Square-Root', 'Log', 'Box Cox' ], 'P-value': [sqrt_test_res[1], log_test_res[1], boxcox_test_res[1]]}\n",
    "df_results = pd.DataFrame(data=d)\n",
    "df_results"
   ]
  },
  {
   "cell_type": "markdown",
   "metadata": {
    "id": "4TH3ROOpPBBR"
   },
   "source": [
    "As shown above we do not find much difference between **log & Box Cox transformations** so for the sake of simplicity we can go with Log transformation! "
   ]
  },
  {
   "cell_type": "markdown",
   "metadata": {
    "id": "h2fXA_i4PBBR"
   },
   "source": [
    "### <font color=#0b5bdb>**Applying Various Regression Models**</font>\n"
   ]
  },
  {
   "cell_type": "code",
   "execution_count": 55,
   "metadata": {
    "id": "Qnm89OlEPBBR"
   },
   "outputs": [],
   "source": [
    "# Importing Libraries\n",
    "from sklearn.preprocessing import LabelEncoder, StandardScaler, PolynomialFeatures\n",
    "from sklearn.linear_model import LinearRegression, Lasso, Ridge\n",
    "from sklearn.metrics import mean_squared_error\n",
    "from sklearn.model_selection import train_test_split\n",
    "from sklearn.metrics import r2_score"
   ]
  },
  {
   "cell_type": "code",
   "execution_count": 56,
   "metadata": {
    "id": "jqK36d0gPBBS"
   },
   "outputs": [],
   "source": [
    "insurance_data = data\n",
    "\n",
    "# Select the columns with type object\n",
    "mask = insurance_data.dtypes == np.object\n",
    "categorical_cols = insurance_data.columns[mask]\n",
    "\n",
    "# convert categorical data into numerical data\n",
    "le = LabelEncoder()\n",
    "for category in categorical_cols:\n",
    "    le.fit(insurance_data[category].drop_duplicates())\n",
    "    insurance_data[category] = le.transform(insurance_data[category])\n",
    "\n",
    "X = insurance_data.drop(['charges', 'region'], axis = 1)\n",
    "y = insurance_data.charges\n",
    "\n",
    "pf = PolynomialFeatures(degree = 2, include_bias = False)\n",
    "X_pf = pf.fit_transform(X)\n",
    "\n",
    "X_train, X_test, y_train, y_test = train_test_split(X_pf, y, test_size=0.3, random_state=42)"
   ]
  },
  {
   "cell_type": "markdown",
   "metadata": {
    "id": "Zfgl_fcOPBBS"
   },
   "source": [
    "### <font color=#0b5bdb>**Applying various linear regression models with advanced techniqeus**</font>\n"
   ]
  },
  {
   "cell_type": "markdown",
   "metadata": {
    "id": "hhpJc11wPBBS"
   },
   "source": [
    "**Through the following steps:** \n",
    "* Chain multiple data processing steps together using `Pipeline`\n",
    "* Use the `KFolds` object to split data into multiple folds.\n",
    "* Perform cross validation using SciKit Learn with `cross_val_predict` and `GridSearchCV`"
   ]
  },
  {
   "cell_type": "code",
   "execution_count": 71,
   "metadata": {
    "id": "XvZd9XRIPBBS"
   },
   "outputs": [],
   "source": [
    "# Importing Libraries \n",
    "import numpy as np\n",
    "import pandas as pd\n",
    "import matplotlib.pyplot as plt\n",
    "\n",
    "from sklearn.preprocessing import LabelEncoder\n",
    "from sklearn.preprocessing import StandardScaler, PolynomialFeatures\n",
    "from sklearn.model_selection import KFold, cross_val_predict, GridSearchCV\n",
    "from sklearn.linear_model import LinearRegression, Lasso, Ridge\n",
    "from sklearn.metrics import r2_score\n",
    "from sklearn.pipeline import Pipeline"
   ]
  },
  {
   "cell_type": "code",
   "execution_count": 63,
   "metadata": {
    "id": "Cu-FPZzlPBBS",
    "outputId": "7f118b7e-4b79-40df-b415-be4161085739"
   },
   "outputs": [
    {
     "data": {
      "text/html": [
       "<div>\n",
       "<style scoped>\n",
       "    .dataframe tbody tr th:only-of-type {\n",
       "        vertical-align: middle;\n",
       "    }\n",
       "\n",
       "    .dataframe tbody tr th {\n",
       "        vertical-align: top;\n",
       "    }\n",
       "\n",
       "    .dataframe thead th {\n",
       "        text-align: right;\n",
       "    }\n",
       "</style>\n",
       "<table border=\"1\" class=\"dataframe\">\n",
       "  <thead>\n",
       "    <tr style=\"text-align: right;\">\n",
       "      <th></th>\n",
       "      <th>age</th>\n",
       "      <th>sex</th>\n",
       "      <th>bmi</th>\n",
       "      <th>children</th>\n",
       "      <th>smoker</th>\n",
       "      <th>region</th>\n",
       "      <th>charges</th>\n",
       "    </tr>\n",
       "  </thead>\n",
       "  <tbody>\n",
       "    <tr>\n",
       "      <th>0</th>\n",
       "      <td>19</td>\n",
       "      <td>female</td>\n",
       "      <td>27.900</td>\n",
       "      <td>0</td>\n",
       "      <td>yes</td>\n",
       "      <td>southwest</td>\n",
       "      <td>16884.92400</td>\n",
       "    </tr>\n",
       "    <tr>\n",
       "      <th>1</th>\n",
       "      <td>18</td>\n",
       "      <td>male</td>\n",
       "      <td>33.770</td>\n",
       "      <td>1</td>\n",
       "      <td>no</td>\n",
       "      <td>southeast</td>\n",
       "      <td>1725.55230</td>\n",
       "    </tr>\n",
       "    <tr>\n",
       "      <th>2</th>\n",
       "      <td>28</td>\n",
       "      <td>male</td>\n",
       "      <td>33.000</td>\n",
       "      <td>3</td>\n",
       "      <td>no</td>\n",
       "      <td>southeast</td>\n",
       "      <td>4449.46200</td>\n",
       "    </tr>\n",
       "    <tr>\n",
       "      <th>3</th>\n",
       "      <td>33</td>\n",
       "      <td>male</td>\n",
       "      <td>22.705</td>\n",
       "      <td>0</td>\n",
       "      <td>no</td>\n",
       "      <td>northwest</td>\n",
       "      <td>21984.47061</td>\n",
       "    </tr>\n",
       "    <tr>\n",
       "      <th>4</th>\n",
       "      <td>32</td>\n",
       "      <td>male</td>\n",
       "      <td>28.880</td>\n",
       "      <td>0</td>\n",
       "      <td>no</td>\n",
       "      <td>northwest</td>\n",
       "      <td>3866.85520</td>\n",
       "    </tr>\n",
       "  </tbody>\n",
       "</table>\n",
       "</div>"
      ],
      "text/plain": [
       "   age     sex     bmi  children smoker     region      charges\n",
       "0   19  female  27.900         0    yes  southwest  16884.92400\n",
       "1   18    male  33.770         1     no  southeast   1725.55230\n",
       "2   28    male  33.000         3     no  southeast   4449.46200\n",
       "3   33    male  22.705         0     no  northwest  21984.47061\n",
       "4   32    male  28.880         0     no  northwest   3866.85520"
      ]
     },
     "execution_count": 63,
     "metadata": {},
     "output_type": "execute_result"
    }
   ],
   "source": [
    "# Data Retrieving \n",
    "insurance_data = pd.read_csv('https://gist.githubusercontent.com/meperezcuello/82a9f1c1c473d6585e750ad2e3c05a41/raw/d42d226d0dd64e7f5395a0eec1b9190a10edbc03/Medical_Cost.csv')\n",
    "insurance_data.head()"
   ]
  },
  {
   "cell_type": "code",
   "execution_count": 70,
   "metadata": {
    "id": "pkjpuHiSPBBT"
   },
   "outputs": [],
   "source": [
    "### Select the columns with type object\n",
    "mask = insurance_data.dtypes == np.object\n",
    "categorical_cols = insurance_data.columns[mask]\n",
    "\n",
    "le = LabelEncoder()\n",
    "for category in categorical_cols:\n",
    "    le.fit(insurance_data[category].drop_duplicates())\n",
    "    insurance_data[category] = le.transform(insurance_data[category])\n",
    "    \n",
    "X = insurance_data.drop(['charges','region'], axis=1)\n",
    "y = insurance_data.charges\n",
    "\n",
    "# create folds \n",
    "kf = KFold(shuffle=True, random_state=42, n_splits=3)"
   ]
  },
  {
   "cell_type": "markdown",
   "metadata": {
    "id": "JRu93kPiPBBT"
   },
   "source": [
    "### 1- Vanilla Linear Regression"
   ]
  },
  {
   "cell_type": "code",
   "execution_count": 72,
   "metadata": {
    "id": "G5rbPavbPBBT",
    "outputId": "7d47a849-f7c0-4b6b-8336-ecbc415cbbe6"
   },
   "outputs": [
    {
     "data": {
      "text/plain": [
       "(0.8397766323587842, {'polynomial_features__degree': 2})"
      ]
     },
     "execution_count": 72,
     "metadata": {},
     "output_type": "execute_result"
    }
   ],
   "source": [
    "estimator = Pipeline([(\"scaler\", StandardScaler()),\n",
    "        (\"polynomial_features\", PolynomialFeatures()),\n",
    "        (\"linear_regression\", LinearRegression())])\n",
    "\n",
    "params = {\n",
    "    \"polynomial_features__degree\": range(3),\n",
    "}\n",
    "\n",
    "grid = GridSearchCV(estimator, params, cv=kf)\n",
    "grid.fit(X, y)\n",
    "grid.best_score_, grid.best_params_"
   ]
  },
  {
   "cell_type": "code",
   "execution_count": 73,
   "metadata": {
    "id": "CExpLEP_PBBT",
    "outputId": "e780026d-928e-4093-8cbf-1b913108c1d0"
   },
   "outputs": [
    {
     "data": {
      "text/plain": [
       "0.8439617668979893"
      ]
     },
     "execution_count": 73,
     "metadata": {},
     "output_type": "execute_result"
    }
   ],
   "source": [
    "best_vanilla_estimator = Pipeline([\n",
    "                    (\"scaler\", StandardScaler()),\n",
    "                    (\"make_higher_degree\", PolynomialFeatures(degree=2)),\n",
    "                    (\"vanilla_regression\", LinearRegression())])\n",
    "\n",
    "best_vanilla_estimator.fit(X, y)\n",
    "best_vanilla_estimator.score(X, y)"
   ]
  },
  {
   "cell_type": "markdown",
   "metadata": {
    "id": "zr1A5xoCPBBU"
   },
   "source": [
    "### 2- Lasso Regression"
   ]
  },
  {
   "cell_type": "code",
   "execution_count": 77,
   "metadata": {
    "id": "pmq-rYh2PBBU",
    "outputId": "59a5ae08-49cc-4bf4-a6f9-6d40c2bc8bdf"
   },
   "outputs": [
    {
     "data": {
      "text/plain": [
       "(0.8401685994822629,\n",
       " {'lasso_regression__alpha': 30.0, 'polynomial_features__degree': 2})"
      ]
     },
     "execution_count": 77,
     "metadata": {},
     "output_type": "execute_result"
    }
   ],
   "source": [
    "estimator = Pipeline([(\"scaler\", StandardScaler()),\n",
    "        (\"polynomial_features\", PolynomialFeatures()),\n",
    "        (\"lasso_regression\", Lasso())])\n",
    "\n",
    "params = {\n",
    "    \"polynomial_features__degree\": [1, 2, 3],\n",
    "    \"lasso_regression__alpha\": np.geomspace(0.01, 30, 50)\n",
    "}\n",
    "\n",
    "grid = GridSearchCV(estimator, params, cv = kf)\n",
    "grid.fit(X, y)\n",
    "grid.best_score_, grid.best_params_"
   ]
  },
  {
   "cell_type": "code",
   "execution_count": 102,
   "metadata": {
    "id": "XfTpUuCuPBBU",
    "outputId": "12cb867f-8219-44d2-8281-a1556fa4545e"
   },
   "outputs": [
    {
     "data": {
      "text/plain": [
       "0.8439617668509795"
      ]
     },
     "execution_count": 102,
     "metadata": {},
     "output_type": "execute_result"
    }
   ],
   "source": [
    "best_lasso_estimator = Pipeline([\n",
    "                    (\"scaler\", StandardScaler()),\n",
    "                    (\"make_higher_degree\", PolynomialFeatures(degree=2)),\n",
    "                    (\"lasso_regression\", Lasso(alpha = 0))])\n",
    "\n",
    "best_lasso_estimator.fit(X, y)\n",
    "best_lasso_estimator.score(X, y)"
   ]
  },
  {
   "cell_type": "markdown",
   "metadata": {
    "id": "7yhJlImePBBU"
   },
   "source": [
    "### 3- Ridge Regression"
   ]
  },
  {
   "cell_type": "code",
   "execution_count": 80,
   "metadata": {
    "id": "K4LPLgHyPBBU",
    "outputId": "c4f6d619-3630-4061-e640-a66dbe516baa"
   },
   "outputs": [
    {
     "data": {
      "text/plain": [
       "(0.8399073635712647,\n",
       " {'polynomial_features__degree': 2,\n",
       "  'ridge_regression__alpha': 16.96379809972482})"
      ]
     },
     "execution_count": 80,
     "metadata": {},
     "output_type": "execute_result"
    }
   ],
   "source": [
    "estimator = Pipeline([(\"scaler\", StandardScaler()),\n",
    "        (\"polynomial_features\", PolynomialFeatures()),\n",
    "        (\"ridge_regression\", Ridge())])\n",
    "\n",
    "params = {\n",
    "    \"polynomial_features__degree\": [1, 2, 3],\n",
    "    \"ridge_regression__alpha\": np.geomspace(2, 30, 20)\n",
    "}\n",
    "\n",
    "grid = GridSearchCV(estimator, params, cv=kf)\n",
    "grid.fit(X, y)\n",
    "grid.best_score_, grid.best_params_"
   ]
  },
  {
   "cell_type": "code",
   "execution_count": 121,
   "metadata": {},
   "outputs": [
    {
     "data": {
      "text/plain": [
       "0.8439635659102137"
      ]
     },
     "execution_count": 121,
     "metadata": {},
     "output_type": "execute_result"
    }
   ],
   "source": [
    "best_ridge_estimator = Pipeline([\n",
    "                    (\"scaler\", StandardScaler()),\n",
    "                    (\"make_higher_degree\", PolynomialFeatures(degree=2)),\n",
    "                    (\"ridge_regression\", Ridge(alpha = 0))])\n",
    "\n",
    "best_ridge_estimator.fit(X, y)\n",
    "best_ridge_estimator.score(X, y)"
   ]
  },
  {
   "cell_type": "code",
   "execution_count": 106,
   "metadata": {
    "id": "ycANST7DPBBV"
   },
   "outputs": [],
   "source": [
    "from sklearn.metrics import mean_squared_error\n",
    "\n",
    "def rmse(ytrue, ypredicted):\n",
    "    return np.sqrt(mean_squared_error(ytrue, ypredicted))"
   ]
  },
  {
   "cell_type": "code",
   "execution_count": 104,
   "metadata": {
    "id": "M9T8jt-0PBBV"
   },
   "outputs": [],
   "source": [
    "pf = PolynomialFeatures(degree=2)\n",
    "s = StandardScaler()\n",
    "\n",
    "X_pf = pf.fit_transform(X)\n",
    "X_s = s.fit_transform(X_pf)\n",
    "X_train, X_test, y_train, y_test = train_test_split(X_s, y, shuffle=True, test_size=0.3, random_state=42)"
   ]
  },
  {
   "cell_type": "markdown",
   "metadata": {
    "id": "q_ibhgORPBBV"
   },
   "source": [
    "### 1- Vanilla Linear Regression"
   ]
  },
  {
   "cell_type": "code",
   "execution_count": 107,
   "metadata": {
    "id": "lGEdFR--PBBV",
    "outputId": "7692fa81-b21b-47b9-8143-492bd8581d4a"
   },
   "outputs": [
    {
     "name": "stdout",
     "output_type": "stream",
     "text": [
      "4496.560110896624\n",
      "0.8621029955994313\n"
     ]
    }
   ],
   "source": [
    "from sklearn.linear_model import LinearRegression\n",
    "linearRegression = LinearRegression().fit(X_train, y_train)\n",
    "linearRegression_rmse = rmse(y_test, linearRegression.predict(X_test))\n",
    "linearRegression_R2 = r2_score(y_test, linearRegression.predict(X_test)) \n",
    "print(linearRegression_rmse)\n",
    "print(linearRegression_R2)"
   ]
  },
  {
   "cell_type": "code",
   "execution_count": 108,
   "metadata": {
    "id": "6hCBhAdPPBBW",
    "outputId": "fd1fe163-395d-40dd-cd06-725e5e0aa3c5"
   },
   "outputs": [
    {
     "data": {
      "image/png": "[encoded data removed]",
      "text/plain": [
       "<Figure size 720x432 with 1 Axes>"
      ]
     },
     "metadata": {
      "needs_background": "light"
     },
     "output_type": "display_data"
    }
   ],
   "source": [
    "f = plt.figure(figsize=(10,6))\n",
    "ax = plt.axes()\n",
    "\n",
    "ax.plot(y_test, linearRegression.predict(X_test), \n",
    "         marker='o', ls='', ms=3.0)\n",
    "\n",
    "lim = (0, y_test.max())\n",
    "\n",
    "ax.set(xlabel='Actual Charges', \n",
    "       ylabel='Predicted Charges', \n",
    "       xlim=lim,\n",
    "       ylim=lim,\n",
    "       title='Vanilla Model Results');"
   ]
  },
  {
   "cell_type": "markdown",
   "metadata": {
    "id": "3odIucdKPBBY"
   },
   "source": [
    "### 2- Lasso Regression"
   ]
  },
  {
   "cell_type": "code",
   "execution_count": 110,
   "metadata": {
    "id": "Dsos5sniPBBY",
    "outputId": "cf2bfc10-a766-4016-9773-d9762f7c929c"
   },
   "outputs": [
    {
     "name": "stdout",
     "output_type": "stream",
     "text": [
      "13.7454744402372\n",
      "4496.577651935266\n",
      "0.8621019197275019\n"
     ]
    }
   ],
   "source": [
    "from sklearn.linear_model import LassoCV\n",
    "alphas = np.geomspace(0.1, 400, 1000)\n",
    "lassoCV = LassoCV(alphas=alphas,\n",
    "                  max_iter=10000,\n",
    "                  cv=3).fit(X_train, y_train)\n",
    "\n",
    "lassoCV_rmse = rmse(y_test, lassoCV.predict(X_test))\n",
    "lassoCV_R2 = r2_score(y_test, lassoCV.predict(X_test)) \n",
    "\n",
    "print(lassoCV.alpha_)  \n",
    "print(lassoCV_rmse)\n",
    "print(lassoCV_R2)"
   ]
  },
  {
   "cell_type": "code",
   "execution_count": 111,
   "metadata": {
    "id": "PkdUraqPPBBY",
    "outputId": "6863ab16-1057-4e01-cb56-b89c934a8204"
   },
   "outputs": [
    {
     "data": {
      "image/png": "[encoded data removed]",
      "text/plain": [
       "<Figure size 720x432 with 1 Axes>"
      ]
     },
     "metadata": {
      "needs_background": "light"
     },
     "output_type": "display_data"
    }
   ],
   "source": [
    "f = plt.figure(figsize=(10,6))\n",
    "ax = plt.axes()\n",
    "\n",
    "ax.plot(y_test, lassoCV.predict(X_test), \n",
    "         marker='o', ls='', color='#eb631e', ms=3.0)\n",
    "\n",
    "lim = (0, y_test.max())\n",
    "\n",
    "ax.set(xlabel='Actual Charges', \n",
    "       ylabel='Predicted Charges', \n",
    "       xlim=lim,\n",
    "       ylim=lim,\n",
    "       title='Lasso Model Results');"
   ]
  },
  {
   "cell_type": "markdown",
   "metadata": {
    "id": "aV4hYQe4PBBY"
   },
   "source": [
    "### 3- Ridge Regression"
   ]
  },
  {
   "cell_type": "code",
   "execution_count": 112,
   "metadata": {
    "id": "rqxF-Eq9PBBZ",
    "outputId": "c7e6da18-2cbe-481b-de74-f856698652a2"
   },
   "outputs": [
    {
     "name": "stdout",
     "output_type": "stream",
     "text": [
      "0.5597483996302115\n",
      "4494.682979659035\n",
      "0.8622181043662683\n"
     ]
    }
   ],
   "source": [
    "from sklearn.linear_model import RidgeCV\n",
    "\n",
    "alphas = np.geomspace(0.01, 20, 1000).tolist()\n",
    "ridgeCV = RidgeCV(alphas=alphas, cv=3).fit(X_train, y_train)\n",
    "\n",
    "ridgeCV_rmse = rmse(y_test, ridgeCV.predict(X_test))\n",
    "ridgeCV_R2 = r2_score(y_test, ridgeCV.predict(X_test)) \n",
    "\n",
    "print(ridgeCV.alpha_)\n",
    "print(ridgeCV_rmse)\n",
    "print(ridgeCV_R2)"
   ]
  },
  {
   "cell_type": "code",
   "execution_count": 113,
   "metadata": {
    "id": "qKFYJzDePBBZ",
    "outputId": "c3865040-24da-49b4-ef00-ce1a45f1b540"
   },
   "outputs": [
    {
     "data": {
      "image/png": "[encoded data removed]",
      "text/plain": [
       "<Figure size 720x432 with 1 Axes>"
      ]
     },
     "metadata": {
      "needs_background": "light"
     },
     "output_type": "display_data"
    }
   ],
   "source": [
    "f = plt.figure(figsize=(10,6))\n",
    "ax = plt.axes()\n",
    "\n",
    "ax.plot(y_test, ridgeCV.predict(X_test), \n",
    "         marker='o', ls='', color='g', ms=3.0)\n",
    "\n",
    "lim = (0, y_test.max())\n",
    "\n",
    "ax.set(xlabel='Actual Charges', \n",
    "       ylabel='Predicted Charges', \n",
    "       xlim=lim,\n",
    "       ylim=lim,\n",
    "       title='Ridge Model Results');"
   ]
  },
  {
   "cell_type": "markdown",
   "metadata": {
    "id": "jRFs-MQWPBBZ"
   },
   "source": [
    "### 4- ElasticNetCV"
   ]
  },
  {
   "cell_type": "code",
   "execution_count": 114,
   "metadata": {
    "id": "L5kzn8oYPBBZ",
    "outputId": "b34a9ce6-84d8-4a1c-a833-33898dad73a6"
   },
   "outputs": [
    {
     "name": "stdout",
     "output_type": "stream",
     "text": [
      "0.008111308307896872\n",
      "4494.417700642735\n",
      "0.862234367834585\n",
      "0.9\n"
     ]
    }
   ],
   "source": [
    "from sklearn.linear_model import ElasticNetCV\n",
    "alphas = np.geomspace(0.001, 1, 100)\n",
    "l1_ratios = np.linspace(0.1, 0.9, 10)\n",
    "\n",
    "elasticNetCV = ElasticNetCV(alphas=alphas, \n",
    "                            l1_ratio=l1_ratios,\n",
    "                            max_iter=1e4).fit(X_train, y_train)\n",
    "\n",
    "elasticNetCV_rmse = rmse(y_test, elasticNetCV.predict(X_test))\n",
    "elasticNetCV_R2 = r2_score(y_test, elasticNetCV.predict(X_test)) \n",
    "\n",
    "print(elasticNetCV.alpha_)\n",
    "print(elasticNetCV_rmse)\n",
    "print(elasticNetCV_R2)\n",
    "print(elasticNetCV.l1_ratio_)"
   ]
  },
  {
   "cell_type": "code",
   "execution_count": 115,
   "metadata": {
    "id": "oVcbDxWSPBBZ",
    "outputId": "b709bc9f-046f-4be9-c694-a0bcc5ad59e1"
   },
   "outputs": [
    {
     "data": {
      "image/png": "[encoded data removed]",
      "text/plain": [
       "<Figure size 720x432 with 1 Axes>"
      ]
     },
     "metadata": {
      "needs_background": "light"
     },
     "output_type": "display_data"
    }
   ],
   "source": [
    "f = plt.figure(figsize=(10,6))\n",
    "ax = plt.axes()\n",
    "\n",
    "ax.plot(y_test, elasticNetCV.predict(X_test), \n",
    "         marker='o', ls='', color='#c965c8', ms=3.0)\n",
    "\n",
    "lim = (0, y_test.max())\n",
    "\n",
    "ax.set(xlabel='Actual Charges', \n",
    "       ylabel='Predicted Charges', \n",
    "       xlim=lim,\n",
    "       ylim=lim,\n",
    "       title='Elastic Net Model Results');"
   ]
  },
  {
   "cell_type": "code",
   "execution_count": 116,
   "metadata": {
    "id": "wWlj91V-PBBa",
    "outputId": "e278d5de-b4f4-4a47-cea1-1e7fe82fb88b"
   },
   "outputs": [
    {
     "data": {
      "text/html": [
       "<div>\n",
       "<style scoped>\n",
       "    .dataframe tbody tr th:only-of-type {\n",
       "        vertical-align: middle;\n",
       "    }\n",
       "\n",
       "    .dataframe tbody tr th {\n",
       "        vertical-align: top;\n",
       "    }\n",
       "\n",
       "    .dataframe thead th {\n",
       "        text-align: right;\n",
       "    }\n",
       "</style>\n",
       "<table border=\"1\" class=\"dataframe\">\n",
       "  <thead>\n",
       "    <tr style=\"text-align: right;\">\n",
       "      <th></th>\n",
       "      <th>RMSE</th>\n",
       "      <th>R2</th>\n",
       "    </tr>\n",
       "  </thead>\n",
       "  <tbody>\n",
       "    <tr>\n",
       "      <th>Linear</th>\n",
       "      <td>4496.560111</td>\n",
       "      <td>0.862103</td>\n",
       "    </tr>\n",
       "    <tr>\n",
       "      <th>Lasso</th>\n",
       "      <td>4496.577652</td>\n",
       "      <td>0.862102</td>\n",
       "    </tr>\n",
       "    <tr>\n",
       "      <th>Ridge</th>\n",
       "      <td>4494.682980</td>\n",
       "      <td>0.862218</td>\n",
       "    </tr>\n",
       "    <tr>\n",
       "      <th>ElasticNet</th>\n",
       "      <td>4494.417701</td>\n",
       "      <td>0.862234</td>\n",
       "    </tr>\n",
       "  </tbody>\n",
       "</table>\n",
       "</div>"
      ],
      "text/plain": [
       "                   RMSE        R2\n",
       "Linear      4496.560111  0.862103\n",
       "Lasso       4496.577652  0.862102\n",
       "Ridge       4494.682980  0.862218\n",
       "ElasticNet  4494.417701  0.862234"
      ]
     },
     "execution_count": 116,
     "metadata": {},
     "output_type": "execute_result"
    }
   ],
   "source": [
    "rmse_vals = [linearRegression_rmse, lassoCV_rmse, ridgeCV_rmse, elasticNetCV_rmse]\n",
    "R2_vals = [linearRegression_R2, lassoCV_R2, ridgeCV_R2, elasticNetCV_R2] \n",
    "\n",
    "labels = ['Linear', 'Lasso', 'Ridge', 'ElasticNet']\n",
    "metric_df = pd.Series(rmse_vals, index=labels).to_frame()\n",
    "metric_df.rename(columns={0: 'RMSE'}, inplace=1)\n",
    "metric_df['R2'] = R2_vals\n",
    "metric_df"
   ]
  },
  {
   "cell_type": "code",
   "execution_count": 133,
   "metadata": {
    "id": "sQ0v03dHPBBa",
    "outputId": "0aa82f27-5b5f-4857-9a62-b30995c8af98",
    "scrolled": true
   },
   "outputs": [
    {
     "data": {
      "text/html": [
       "<div>\n",
       "<style scoped>\n",
       "    .dataframe tbody tr th:only-of-type {\n",
       "        vertical-align: middle;\n",
       "    }\n",
       "\n",
       "    .dataframe tbody tr th {\n",
       "        vertical-align: top;\n",
       "    }\n",
       "\n",
       "    .dataframe thead th {\n",
       "        text-align: right;\n",
       "    }\n",
       "</style>\n",
       "<table border=\"1\" class=\"dataframe\">\n",
       "  <thead>\n",
       "    <tr style=\"text-align: right;\">\n",
       "      <th></th>\n",
       "      <th>RMSE</th>\n",
       "      <th>R2</th>\n",
       "      <th>RMSE-SGD</th>\n",
       "      <th>R2-SGD</th>\n",
       "    </tr>\n",
       "  </thead>\n",
       "  <tbody>\n",
       "    <tr>\n",
       "      <th>Linear</th>\n",
       "      <td>4496.560111</td>\n",
       "      <td>0.862103</td>\n",
       "      <td>4531.265649</td>\n",
       "      <td>0.859966</td>\n",
       "    </tr>\n",
       "    <tr>\n",
       "      <th>Lasso</th>\n",
       "      <td>4496.577652</td>\n",
       "      <td>0.862102</td>\n",
       "      <td>4554.346263</td>\n",
       "      <td>0.858536</td>\n",
       "    </tr>\n",
       "    <tr>\n",
       "      <th>Ridge</th>\n",
       "      <td>4494.682980</td>\n",
       "      <td>0.862218</td>\n",
       "      <td>4516.255204</td>\n",
       "      <td>0.860892</td>\n",
       "    </tr>\n",
       "    <tr>\n",
       "      <th>ElasticNet</th>\n",
       "      <td>4494.417701</td>\n",
       "      <td>0.862234</td>\n",
       "      <td>4537.499137</td>\n",
       "      <td>0.859581</td>\n",
       "    </tr>\n",
       "  </tbody>\n",
       "</table>\n",
       "</div>"
      ],
      "text/plain": [
       "                   RMSE        R2     RMSE-SGD    R2-SGD\n",
       "Linear      4496.560111  0.862103  4531.265649  0.859966\n",
       "Lasso       4496.577652  0.862102  4554.346263  0.858536\n",
       "Ridge       4494.682980  0.862218  4516.255204  0.860892\n",
       "ElasticNet  4494.417701  0.862234  4537.499137  0.859581"
      ]
     },
     "execution_count": 133,
     "metadata": {},
     "output_type": "execute_result"
    }
   ],
   "source": [
    "# Import SGDRegressor and prepare the parameters\n",
    "from sklearn.linear_model import SGDRegressor\n",
    "\n",
    "model_parameters_dict = {\n",
    "    'Linear': {'penalty': 'none'},\n",
    "    'Lasso': {'penalty': 'l1',\n",
    "           'alpha': lassoCV.alpha_},\n",
    "    'Ridge': {'penalty': 'none',\n",
    "           'alpha': ridgeCV.alpha_},\n",
    "    'ElasticNet': {'penalty': 'elasticnet', \n",
    "                   'alpha': elasticNetCV.alpha_,\n",
    "                   'l1_ratio': elasticNetCV.l1_ratio_}\n",
    "}\n",
    "\n",
    "new_rmses = {}\n",
    "new_R2 = {}\n",
    "for modellabel, parameters in model_parameters_dict.items():\n",
    "    # following notation passes the dict items as arguments\n",
    "    SGD = SGDRegressor(**parameters)\n",
    "    SGD.fit(X_train, y_train)\n",
    "    new_rmses[modellabel] = rmse(y_test, SGD.predict(X_test))\n",
    "    new_R2[modellabel] = r2_score(y_test, SGD.predict(X_test))\n",
    "    \n",
    "metric_df['RMSE-SGD'] = pd.Series(new_rmses)\n",
    "metric_df['R2-SGD'] = pd.Series(new_R2)\n",
    "metric_df"
   ]
  }
 ],
 "metadata": {
  "colab": {
   "name": "Final_Assignment.ipynb",
   "provenance": []
  },
  "kernelspec": {
   "display_name": "Python 3 (ipykernel)",
   "language": "python",
   "name": "python3"
  },
  "language_info": {
   "codemirror_mode": {
    "name": "ipython",
    "version": 3
   },
   "file_extension": ".py",
   "mimetype": "text/x-python",
   "name": "python",
   "nbconvert_exporter": "python",
   "pygments_lexer": "ipython3",
   "version": "3.7.1"
  }
 },
 "nbformat": 4,
 "nbformat_minor": 1
}
